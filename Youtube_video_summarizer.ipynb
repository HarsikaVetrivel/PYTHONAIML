{
  "nbformat": 4,
  "nbformat_minor": 0,
  "metadata": {
    "colab": {
      "provenance": [],
      "authorship_tag": "ABX9TyPhHNU4Jj4W6ZGAxUyV5yrs",
      "include_colab_link": true
    },
    "kernelspec": {
      "name": "python3",
      "display_name": "Python 3"
    },
    "language_info": {
      "name": "python"
    }
  },
  "cells": [
    {
      "cell_type": "markdown",
      "metadata": {
        "id": "view-in-github",
        "colab_type": "text"
      },
      "source": [
        "<a href=\"https://colab.research.google.com/github/HarsikaVetrivel/PYTHONAIML/blob/main/Youtube_video_summarizer.ipynb\" target=\"_parent\"><img src=\"https://colab.research.google.com/assets/colab-badge.svg\" alt=\"Open In Colab\"/></a>"
      ]
    },
    {
      "cell_type": "code",
      "source": [
        "# 📦 Install dependencies\n",
        "!pip install transformers youtube-transcript-api --quiet\n",
        "\n",
        "# 📚 Imports\n",
        "import re\n",
        "from youtube_transcript_api import YouTubeTranscriptApi\n",
        "from transformers import pipeline\n",
        "\n",
        "# 📍 Extract video ID from URL\n",
        "def extract_video_id(url):\n",
        "    match = re.search(r\"(?:v=|\\/)([0-9A-Za-z_-]{11})\", url)\n",
        "    if match:\n",
        "        return match.group(1)\n",
        "    raise ValueError(\"Invalid YouTube URL\")\n",
        "\n",
        "# 📄 Get transcript from YouTube\n",
        "def get_transcript(video_id):\n",
        "    try:\n",
        "        transcript = YouTubeTranscriptApi.get_transcript(video_id)\n",
        "        return \" \".join([entry['text'] for entry in transcript])\n",
        "    except Exception as e:\n",
        "        print(\"❌ Could not fetch transcript:\", e)\n",
        "        return \"\"\n",
        "\n",
        "# 🧠 Summarize using Hugging Face\n",
        "def summarize_text(text):\n",
        "    summarizer = pipeline(\"summarization\", model=\"sshleifer/distilbart-cnn-12-6\")\n",
        "    max_len = 1024\n",
        "    chunks = [text[i:i+max_len] for i in range(0, len(text), max_len)]\n",
        "\n",
        "    summary = \"\"\n",
        "    for idx, chunk in enumerate(chunks):\n",
        "        print(f\"🧩 Summarizing chunk {idx+1}/{len(chunks)}...\")\n",
        "        out = summarizer(chunk, max_length=120, min_length=30, do_sample=False)[0]['summary_text']\n",
        "        summary += out + \"\\n\"\n",
        "    return summary.strip()\n",
        "\n",
        "# 🔁 Full pipeline\n",
        "def summarize_video(video_url):\n",
        "    print(\"📥 Fetching transcript...\")\n",
        "    video_id = extract_video_id(video_url)\n",
        "    text = get_transcript(video_id)\n",
        "\n",
        "    if not text.strip():\n",
        "        return \"⚠️ Transcript not available for this video.\"\n",
        "\n",
        "    print(\"\\n📝 Transcript preview (first 500 characters):\")\n",
        "    print(text[:500] + \"...\\n\")\n",
        "\n",
        "    print(\"🧠 Summarizing...\")\n",
        "    summary = summarize_text(text)\n",
        "\n",
        "    return summary if summary else \"⚠️ Failed to generate summary.\"\n",
        "\n",
        "# ▶️ ENTER your video URL here\n",
        "video_url = \"https://www.youtube.com/watch?v=gm54xjD8_Kk\"\n",
        "\n",
        "# 🚀 Run\n",
        "summary = summarize_video(video_url)\n",
        "\n",
        "# 📝 Show summary\n",
        "print(\"\\n📄 Summary:\\n\")\n",
        "print(summary)\n"
      ],
      "metadata": {
        "colab": {
          "base_uri": "https://localhost:8080/"
        },
        "id": "TdJXcofGCTfr",
        "outputId": "faaf17de-c27e-4fe8-d538-cf80dfe87668"
      },
      "execution_count": null,
      "outputs": [
        {
          "output_type": "stream",
          "name": "stdout",
          "text": [
            "📥 Fetching transcript...\n",
            "\n",
            "📝 Transcript preview (first 500 characters):\n",
            "okay welcome all of you to session 14 we have two more classes to go so let me see what I let me show you what I want to cover today these are the topics I'm sure there are all of them are important topics in processor architecture world so I want to introduce these techniques and not to the very detailed level of how it is implemented but at least I will show you um the idea behind it so that later on you can read it and learn about all these things on your own okay so register renaming let me ...\n",
            "\n",
            "🧠 Summarizing...\n"
          ]
        },
        {
          "output_type": "stream",
          "name": "stderr",
          "text": [
            "Device set to use cpu\n"
          ]
        },
        {
          "output_type": "stream",
          "name": "stdout",
          "text": [
            "🧩 Summarizing chunk 1/78...\n",
            "🧩 Summarizing chunk 2/78...\n",
            "🧩 Summarizing chunk 3/78...\n",
            "🧩 Summarizing chunk 4/78...\n",
            "🧩 Summarizing chunk 5/78...\n",
            "🧩 Summarizing chunk 6/78...\n",
            "🧩 Summarizing chunk 7/78...\n",
            "🧩 Summarizing chunk 8/78...\n",
            "🧩 Summarizing chunk 9/78...\n",
            "🧩 Summarizing chunk 10/78...\n",
            "🧩 Summarizing chunk 11/78...\n",
            "🧩 Summarizing chunk 12/78...\n",
            "🧩 Summarizing chunk 13/78...\n",
            "🧩 Summarizing chunk 14/78...\n",
            "🧩 Summarizing chunk 15/78...\n",
            "🧩 Summarizing chunk 16/78...\n",
            "🧩 Summarizing chunk 17/78...\n",
            "🧩 Summarizing chunk 18/78...\n",
            "🧩 Summarizing chunk 19/78...\n",
            "🧩 Summarizing chunk 20/78...\n",
            "🧩 Summarizing chunk 21/78...\n",
            "🧩 Summarizing chunk 22/78...\n",
            "🧩 Summarizing chunk 23/78...\n",
            "🧩 Summarizing chunk 24/78...\n",
            "🧩 Summarizing chunk 25/78...\n",
            "🧩 Summarizing chunk 26/78...\n",
            "🧩 Summarizing chunk 27/78...\n",
            "🧩 Summarizing chunk 28/78...\n",
            "🧩 Summarizing chunk 29/78...\n",
            "🧩 Summarizing chunk 30/78...\n",
            "🧩 Summarizing chunk 31/78...\n"
          ]
        }
      ]
    }
  ]
}